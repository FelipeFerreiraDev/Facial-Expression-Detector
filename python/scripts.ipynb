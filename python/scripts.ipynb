{
 "cells": [
  {
   "cell_type": "code",
   "execution_count": 10,
   "metadata": {},
   "outputs": [],
   "source": [
    "import sqlite3\n",
    "\n",
    "import pandas as pd\n",
    "\n",
    "pd.options.plotting.backend = \"plotly\""
   ]
  },
  {
   "cell_type": "code",
   "execution_count": 11,
   "metadata": {},
   "outputs": [
    {
     "name": "stdout",
     "output_type": "stream",
     "text": [
      "                               neutral  happy  sad  angry  fearful  disgusted  \\\n",
      "timestamp                                                                       \n",
      "2024-01-28 15:06:26.668999936    1.000    NaN  NaN    NaN      NaN        NaN   \n",
      "2024-01-28 15:06:26.684999936    1.000    NaN  NaN    NaN      NaN        NaN   \n",
      "2024-01-28 15:06:26.772999936    1.000    NaN  NaN    NaN      NaN        NaN   \n",
      "2024-01-28 15:06:26.784000000    1.000    NaN  NaN    NaN      NaN        NaN   \n",
      "2024-01-28 15:06:26.912999936    1.000    NaN  NaN    NaN      NaN        NaN   \n",
      "...                                ...    ...  ...    ...      ...        ...   \n",
      "2024-01-28 15:17:13.251000064    0.963  0.037  NaN    NaN      NaN        NaN   \n",
      "2024-01-28 15:17:14.256000000    0.484  0.515  NaN    NaN      NaN        NaN   \n",
      "2024-01-28 15:17:17.251000064    0.960  0.040  NaN    NaN      NaN        NaN   \n",
      "2024-01-28 15:17:18.257999872    0.998    NaN  NaN    NaN      NaN        NaN   \n",
      "2024-01-28 15:17:21.251000064    1.000    NaN  NaN    NaN      NaN        NaN   \n",
      "\n",
      "                               surprised  \n",
      "timestamp                                 \n",
      "2024-01-28 15:06:26.668999936        NaN  \n",
      "2024-01-28 15:06:26.684999936        NaN  \n",
      "2024-01-28 15:06:26.772999936        NaN  \n",
      "2024-01-28 15:06:26.784000000        NaN  \n",
      "2024-01-28 15:06:26.912999936        NaN  \n",
      "...                                  ...  \n",
      "2024-01-28 15:17:13.251000064        NaN  \n",
      "2024-01-28 15:17:14.256000000        NaN  \n",
      "2024-01-28 15:17:17.251000064        NaN  \n",
      "2024-01-28 15:17:18.257999872        NaN  \n",
      "2024-01-28 15:17:21.251000064        NaN  \n",
      "\n",
      "[600 rows x 7 columns]\n"
     ]
    }
   ],
   "source": [
    "conexao = sqlite3.connect('../mydb.sqlite')\n",
    "cursor = conexao.cursor()\n",
    "\n",
    "try:\n",
    "    # Executar uma consulta\n",
    "    cursor.execute(\"SELECT * FROM expressions\")\n",
    "\n",
    "    # Buscar todos os resultados\n",
    "    resultados = cursor.fetchall()\n",
    "\n",
    "    # Cria um dataframe a partir dos resultados\n",
    "    df = pd.DataFrame(resultados, columns=['timestamp', 'neutral', 'happy', 'sad', 'angry', 'fearful', 'disgusted', 'surprised'])\n",
    "    df['timestamp'] = pd.to_datetime(df['timestamp'], unit='ms', origin='unix')\n",
    "    df.set_index('timestamp', inplace=True)\n",
    "    df = df[df.index.notnull()]\n",
    "    df = df[~df.index.duplicated()]\n",
    "        \n",
    "    # Arredonda os valores para 4 casas decimais exceto da timestamp\n",
    "    df = df.round(3)\n",
    "\n",
    "    # Se o valor for menor que 0.5, ele passa a ser null\n",
    "    df[df < 0.01] = None\n",
    "\n",
    "    print(df)\n",
    "\n",
    "except sqlite3.Error as e:\n",
    "    print(\"Erro ao executar a consulta:\", e)\n",
    "\n",
    "finally:\n",
    "    # Verificar se o cursor está aberto antes de tentar fechá-lo\n",
    "    if cursor:\n",
    "        cursor.close()\n",
    "\n",
    "    # Fechar a conexão\n",
    "    conexao.close()"
   ]
  },
  {
   "cell_type": "code",
   "execution_count": 12,
   "metadata": {},
   "outputs": [
    {
     "name": "stdout",
     "output_type": "stream",
     "text": [
      "expressions.csv salvo com sucesso!\n"
     ]
    }
   ],
   "source": [
    "import plotly.graph_objects as go\n",
    "import pandas as pd\n",
    "\n",
    "colors = [\"#997600\", \"#e83326\", \"#008c5c\", \"#1077f3\", \"#c85b00\", \"#bf8cfc\", \"#9b54f3\", \"#ee74ee\", \"#5ba8f7\", \"#339933\", \"#444488\"]\n",
    "\n",
    "# Salva o DataFrame como csv\n",
    "df.to_csv('expressions.csv')\n",
    "print('expressions.csv salvo com sucesso!')\n",
    "\n",
    "# Lê o csv novamente para um novo DataFrame\n",
    "data = pd.read_csv(\"expressions.csv\")\n",
    "data['timestamp'] = pd.to_datetime(data['timestamp'])  # Converta a coluna timestamp para datetime se não estiver\n",
    "\n",
    "fig = go.Figure()\n",
    "\n",
    "data = data.set_index('timestamp')\n",
    "# data = data.resample('5s').mean()  # Resample para obter médias em intervalos de 5 segundos\n",
    "\n",
    "traces = [\n",
    "    go.Scattergl(\n",
    "        x=data.index,\n",
    "        y=data[col].astype(float),\n",
    "        name=col, mode='markers+lines',\n",
    "        marker={'size': 2},\n",
    "    ) for col in data.columns if col != 'timestamp'\n",
    "]\n",
    "\n",
    "fig.add_traces(traces)\n",
    "fig.update_layout(hovermode='x', colorway=colors)\n",
    "fig.update_traces(hovertemplate='%{y}')\n",
    "fig.write_html('expressions.html')\n"
   ]
  }
 ],
 "metadata": {
  "kernelspec": {
   "display_name": "Python 3",
   "language": "python",
   "name": "python3"
  },
  "language_info": {
   "codemirror_mode": {
    "name": "ipython",
    "version": 3
   },
   "file_extension": ".py",
   "mimetype": "text/x-python",
   "name": "python",
   "nbconvert_exporter": "python",
   "pygments_lexer": "ipython3",
   "version": "3.11.5"
  }
 },
 "nbformat": 4,
 "nbformat_minor": 2
}
